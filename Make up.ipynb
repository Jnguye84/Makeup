{
 "cells": [
  {
   "cell_type": "markdown",
   "id": "7118b544",
   "metadata": {},
   "source": [
    "Here is my analysis within an API makeup dataset (https://makeup-api.herokuapp.com/api/v1/products.json). My questions for this dataset was \"Which company has the most affordable vegan products?\" My goals for this dataset were 1) creating user-interactive scatterplots 2) overall trend scatterplots 3) bar graphs"
   ]
  },
  {
   "cell_type": "code",
   "execution_count": 1,
   "id": "bdc324c8",
   "metadata": {
    "extensions": {
     "jupyter_dashboards": {
      "version": 1,
      "views": {
       "grid_default": {},
       "report_default": {}
      }
     }
    }
   },
   "outputs": [],
   "source": [
    "import json \n",
    "import pandas as pd \n",
    "import numpy as np \n",
    "pd.options.mode.chained_assignment = None\n",
    "pd.set_option(\"display.max_rows\", None)"
   ]
  },
  {
   "cell_type": "code",
   "execution_count": 2,
   "id": "14d24dbd",
   "metadata": {
    "extensions": {
     "jupyter_dashboards": {
      "version": 1,
      "views": {
       "grid_default": {},
       "report_default": {}
      }
     }
    }
   },
   "outputs": [],
   "source": [
    "with open(\"/Users/jessicanguyen/Desktop/Coding Projects/makeup_api_heroku.json\") as f:\n",
    "    data = json.load(f)"
   ]
  },
  {
   "cell_type": "code",
   "execution_count": 3,
   "id": "5d301709",
   "metadata": {
    "extensions": {
     "jupyter_dashboards": {
      "version": 1,
      "views": {
       "grid_default": {},
       "report_default": {}
      }
     }
    }
   },
   "outputs": [],
   "source": [
    "df = pd.DataFrame(columns = [\"Product Type\",\"Product Tags\",\"Brand\",\"Price\", \"Currency\", \"Description\",\"Rating\",\"Product Link\"])"
   ]
  },
  {
   "cell_type": "code",
   "execution_count": 4,
   "id": "cff93713",
   "metadata": {
    "extensions": {
     "jupyter_dashboards": {
      "version": 1,
      "views": {
       "grid_default": {},
       "report_default": {}
      }
     }
    },
    "scrolled": true
   },
   "outputs": [],
   "source": [
    "for i in range(0,len(data)):\n",
    "    currentItem = data[i]\n",
    "    df.loc[i] = [data[i][\"product_type\"],data[i][\"tag_list\"],data[i][\"brand\"],data[i][\"price\"], data[i][\"currency\"],data[i][\"description\"],data[i][\"rating\"],data[i][\"product_link\"]]"
   ]
  },
  {
   "cell_type": "markdown",
   "id": "aebdba7f",
   "metadata": {},
   "source": [
    "1) Data had missing values. The way I solved this issue was by filling all the values with NA which would then be replaced with default values later in the code."
   ]
  },
  {
   "cell_type": "code",
   "execution_count": 5,
   "id": "cd0a79c6",
   "metadata": {
    "extensions": {
     "jupyter_dashboards": {
      "version": 1,
      "views": {
       "grid_default": {},
       "report_default": {}
      }
     }
    }
   },
   "outputs": [],
   "source": [
    "df.fillna(method='ffill', inplace=True)"
   ]
  },
  {
   "cell_type": "markdown",
   "id": "d7052d90",
   "metadata": {},
   "source": [
    "2) While cleaning this data was that there were different currencies within the data (USD, CAD,GDP). How I solve this was converting all currencies to USD. "
   ]
  },
  {
   "cell_type": "code",
   "execution_count": 6,
   "id": "3a3f6baf",
   "metadata": {
    "extensions": {
     "jupyter_dashboards": {
      "version": 1,
      "views": {
       "grid_default": {},
       "report_default": {}
      }
     }
    }
   },
   "outputs": [],
   "source": [
    "for i in range(0,len(data)):\n",
    "    if data[i][\"currency\"] == \"CAD\":\n",
    "        Converted_Price = (float(data[i][\"price\"])*1.146)\n",
    "        df[\"Price\"] = df[\"Price\"].replace([data[i][\"price\"]],Converted_Price)\n",
    "        df = df.replace('CAD','USD')\n",
    "    if data[i][\"currency\"] == \"GBP\":\n",
    "        Converted_Price = (float(data[i][\"price\"])*1.3603)\n",
    "        df[\"Price\"] = df[\"Price\"].replace([data[i][\"price\"]],Converted_Price)\n",
    "        df = df.replace('GBP','USD')\n",
    "\n",
    "df = df.replace('USD','USD')"
   ]
  },
  {
   "cell_type": "code",
   "execution_count": 7,
   "id": "d659fd12",
   "metadata": {
    "extensions": {
     "jupyter_dashboards": {
      "version": 1,
      "views": {
       "grid_default": {},
       "report_default": {}
      }
     }
    }
   },
   "outputs": [],
   "source": [
    "df['Price'] = df['Price'].astype(float)\n",
    "df = df.sort_values(by = ['Price'])"
   ]
  },
  {
   "cell_type": "markdown",
   "id": "7359debd",
   "metadata": {},
   "source": [
    "3) The issue of having missing NA values for the currency column led to me having to fill the value with \"USD\". This is an assumption made that everything with a price but no currency will become USD."
   ]
  },
  {
   "cell_type": "code",
   "execution_count": 8,
   "id": "f60db109",
   "metadata": {
    "extensions": {
     "jupyter_dashboards": {
      "version": 1,
      "views": {
       "grid_default": {},
       "report_default": {}
      }
     }
    }
   },
   "outputs": [],
   "source": [
    "for i in range(0,len(data)):\n",
    "    if type(data[i]['currency']) == type(None):\n",
    "        df['Currency'] = df['Currency'].replace([data[i][\"currency\"]],'USD')"
   ]
  },
  {
   "cell_type": "markdown",
   "id": "ed5e4f1f",
   "metadata": {},
   "source": [
    "4) Another issue was that there were missing prices that had 0 dollars. An assumption that was made was that products that costed $0 would be irrelevant products and did not need to be included in the dataset."
   ]
  },
  {
   "cell_type": "code",
   "execution_count": 9,
   "id": "a40e6f29",
   "metadata": {
    "extensions": {
     "jupyter_dashboards": {
      "version": 1,
      "views": {
       "grid_default": {},
       "report_default": {}
      }
     }
    }
   },
   "outputs": [],
   "source": [
    "df = df.loc[df['Price'] != 0.00000]"
   ]
  },
  {
   "cell_type": "code",
   "execution_count": 10,
   "id": "07826efb",
   "metadata": {
    "extensions": {
     "jupyter_dashboards": {
      "version": 1,
      "views": {
       "grid_default": {},
       "report_default": {}
      }
     }
    }
   },
   "outputs": [],
   "source": [
    "Plist = list(df[\"Product Type\"])\n",
    "Plist = list(set(Plist))"
   ]
  },
  {
   "cell_type": "code",
   "execution_count": 11,
   "id": "266d3b12",
   "metadata": {
    "extensions": {
     "jupyter_dashboards": {
      "version": 1,
      "views": {
       "grid_default": {},
       "report_default": {}
      }
     }
    }
   },
   "outputs": [],
   "source": [
    "Blist = list(df[\"Brand\"])\n",
    "Blist = list(set(Blist))"
   ]
  },
  {
   "cell_type": "code",
   "execution_count": 12,
   "id": "abb43ca5",
   "metadata": {
    "extensions": {
     "jupyter_dashboards": {
      "version": 1,
      "views": {
       "grid_default": {},
       "report_default": {}
      }
     }
    }
   },
   "outputs": [],
   "source": [
    "import ipywidgets as widgets\n",
    "from matplotlib import pyplot as plt \n",
    "import matplotlib\n",
    "import mplcursors"
   ]
  },
  {
   "cell_type": "code",
   "execution_count": 13,
   "id": "0a14de5f",
   "metadata": {
    "extensions": {
     "jupyter_dashboards": {
      "version": 1,
      "views": {
       "grid_default": {},
       "report_default": {}
      }
     }
    }
   },
   "outputs": [],
   "source": [
    "np.random.seed(seed = 30)\n",
    "cmap = matplotlib.cm.get_cmap('Spectral')\n",
    "color_dict = pd.Series({k:cmap(np.random.rand()) for k in df['Brand'].unique()})\n",
    "color_dict.name = 'color_dict'\n",
    "df = pd.merge(df,color_dict,how = 'left',left_on = 'Brand',right_index = True)"
   ]
  },
  {
   "cell_type": "markdown",
   "id": "e0b1cb44",
   "metadata": {},
   "source": [
    "5) Regarding the NA values that are within the rating column and price column, there were two assumptions/weaknesses that were made. Everything that has no rating got the default average rating of that product. For instance: if there is a lipstick from glossier with 'NA' in the rating column, the 'NA' would be replaced with the average rating of all lipsticks in the dataset. The same assumption was made for the 'NA' values in the price column."
   ]
  },
  {
   "cell_type": "code",
   "execution_count": 80,
   "id": "cfd37a33",
   "metadata": {
    "extensions": {
     "jupyter_dashboards": {
      "version": 1,
      "views": {
       "grid_default": {},
       "report_default": {}
      }
     }
    },
    "scrolled": false
   },
   "outputs": [],
   "source": [
    "def productscatter(producttype, brand): \n",
    "    x_points = []\n",
    "    y_points = []\n",
    "    use = df.loc[df['Product Type'] == producttype]\n",
    "    xname = 'Ratings of ' + brand \n",
    "    yname = 'Price of ' + brand\n",
    "    titname = 'The Relationship between Ratings and Prices of ' + producttype\n",
    "    \n",
    "    lr = list((use['Rating']))\n",
    "    lr_modified = []\n",
    "    for i in range (len(lr)):\n",
    "        if lr[i] >= 0:\n",
    "            lr_modified.append(lr[i])\n",
    "            \n",
    "    lp = list((use['Price']))\n",
    "    lp_modified = []\n",
    "    for i in range (len(lp)):\n",
    "        if lp[i] >= 0:\n",
    "            lp_modified.append(lp[i])\n",
    "    \n",
    "    if len(lr_modified) == 0: #for eyebrow rating\n",
    "        lr_modified = lr\n",
    "        use['Rating'] = use['Rating'].fillna(value= 4)\n",
    "    else:\n",
    "        average = sum(lr_modified) / len(lr_modified)\n",
    "        averageprice = sum(lp_modified) / len(lp_modified)\n",
    "        use['Rating'] = use['Rating'].fillna(value=average)\n",
    "        use['Price'] = use['Price'].fillna(value=averageprice)\n",
    "        \n",
    "    x_points = list(use['Rating'])\n",
    "    y_points = list(use['Price'])\n",
    "\n",
    "    useb = use.loc[use['Brand'] == brand]\n",
    "    useb_ratings = list(useb['Rating'])\n",
    "    useb_price = list(useb['Price'])\n",
    "    \n",
    "    if len(useb_ratings) == 0:\n",
    "        unavail = \"There is no \" +producttype + \" listed under this brand: \" + brand\n",
    "        plt.scatter(useb_ratings,useb_price, c = useb['color_dict'])\n",
    "        plt.text(-0.05,0.02,unavail, fontsize = 10, bbox = {'facecolor':'pink', 'alpha':0.3})\n",
    "    else:\n",
    "        plt.scatter(useb_ratings,useb_price, c = useb['color_dict'])\n",
    "    plt.xlabel(xname, fontsize = 15)\n",
    "    plt.ylabel(yname, fontsize = 15)\n",
    "    plt.title(titname, fontsize = 20)\n",
    "    "
   ]
  },
  {
   "cell_type": "markdown",
   "id": "17d200c0",
   "metadata": {},
   "source": [
    "Through this interactive scatterplot, the user is able to see how specific products within specific brands compare to each other. This is a demonstration of how I'm able to integrate user interactions within the data visualization. "
   ]
  },
  {
   "cell_type": "code",
   "execution_count": 81,
   "id": "f769a343",
   "metadata": {
    "extensions": {
     "jupyter_dashboards": {
      "version": 1,
      "views": {
       "grid_default": {},
       "report_default": {}
      }
     }
    }
   },
   "outputs": [
    {
     "data": {
      "application/vnd.jupyter.widget-view+json": {
       "model_id": "c9aa9e8318424225a6ae8dc7e132d840",
       "version_major": 2,
       "version_minor": 0
      },
      "text/plain": [
       "interactive(children=(Dropdown(description='producttype', options=('eyeshadow', 'eyeliner', 'nail_polish', 'fo…"
      ]
     },
     "metadata": {},
     "output_type": "display_data"
    },
    {
     "data": {
      "text/plain": [
       "<function __main__.productscatter(producttype, brand)>"
      ]
     },
     "execution_count": 81,
     "metadata": {},
     "output_type": "execute_result"
    }
   ],
   "source": [
    "widgets.interact(productscatter,producttype = Plist, brand = Blist)"
   ]
  },
  {
   "cell_type": "code",
   "execution_count": 78,
   "id": "05696a6a",
   "metadata": {
    "extensions": {
     "jupyter_dashboards": {
      "version": 1,
      "views": {
       "grid_default": {},
       "report_default": {}
      }
     }
    }
   },
   "outputs": [],
   "source": [
    "def overallproductscatter(producttype): \n",
    "    x_points = []\n",
    "    y_points = []\n",
    "    use = df.loc[df['Product Type'] == producttype]\n",
    "    xname = 'Ratings of ' + producttype\n",
    "    yname = 'Price of ' + producttype\n",
    "    titname = 'The Relationship between Ratings and Prices of ' + producttype\n",
    "    \n",
    "    lr = list((use['Rating']))\n",
    "    lr_modified = []\n",
    "    for i in range (len(lr)):\n",
    "        if lr[i] >= 0:\n",
    "            lr_modified.append(lr[i])\n",
    "            \n",
    "    lp = list((use['Price']))\n",
    "    lp_modified = []\n",
    "    for i in range (len(lp)):\n",
    "        if lp[i] >= 0:\n",
    "            lp_modified.append(lp[i])\n",
    "    \n",
    "    if len(lr_modified) == 0: #for eyebrow rating\n",
    "        lr_modified = lr\n",
    "        use['Rating'] = use['Rating'].fillna(value= 4)\n",
    "    else:\n",
    "        average = sum(lr_modified) / len(lr_modified)\n",
    "        averageprice = sum(lp_modified) / len(lp_modified)\n",
    "        use['Rating'] = use['Rating'].fillna(value=average)\n",
    "        use['Price'] = use['Price'].fillna(value=averageprice)\n",
    "        \n",
    "    x_points = list(use['Rating'])\n",
    "    y_points = list(use['Price'])\n",
    "\n",
    "    plt.scatter(x_points,y_points, c = use['color_dict'])\n",
    "    plt.xlabel(xname, fontsize = 15)\n",
    "    plt.ylabel(yname, fontsize = 15)\n",
    "    plt.title(titname, fontsize = 20)\n"
   ]
  },
  {
   "cell_type": "markdown",
   "id": "97c1f7e3",
   "metadata": {},
   "source": [
    " Here is another interactive scatterplot with only one parameter (selected product type). This allows the user to see the trends of ratings/price of the mascara and even gives them insight on which brand will fluctuate in which regions. Ways this scatterplot can be improved is by including a legend for the graph to show which companies are which colors. I tried to allow the user to figure out through the interactive scatterplot on the top, but I would like to learn how to create a legend based on a dictionary."
   ]
  },
  {
   "cell_type": "code",
   "execution_count": 79,
   "id": "21970446",
   "metadata": {
    "extensions": {
     "jupyter_dashboards": {
      "version": 1,
      "views": {
       "grid_default": {},
       "report_default": {}
      }
     }
    }
   },
   "outputs": [
    {
     "data": {
      "application/vnd.jupyter.widget-view+json": {
       "model_id": "dfbc1756705b42aebfa90592ba709064",
       "version_major": 2,
       "version_minor": 0
      },
      "text/plain": [
       "interactive(children=(Dropdown(description='producttype', options=('eyeshadow', 'eyeliner', 'nail_polish', 'fo…"
      ]
     },
     "metadata": {},
     "output_type": "display_data"
    },
    {
     "data": {
      "text/plain": [
       "<function __main__.overallproductscatter(producttype)>"
      ]
     },
     "execution_count": 79,
     "metadata": {},
     "output_type": "execute_result"
    }
   ],
   "source": [
    "widgets.interact(overallproductscatter,producttype = Plist)"
   ]
  },
  {
   "cell_type": "code",
   "execution_count": 18,
   "id": "1b4a5ab7",
   "metadata": {
    "extensions": {
     "jupyter_dashboards": {
      "version": 1,
      "views": {
       "grid_default": {},
       "report_default": {}
      }
     }
    }
   },
   "outputs": [],
   "source": [
    "lindex = []\n",
    "v = []\n",
    "count = 0\n",
    "q = 0\n",
    "pt = dict(df['Product Tags'])\n",
    "pt_k = list(pt.keys())\n",
    "\n",
    "for i in pt:\n",
    "    if 'Vegan' in pt[i]:\n",
    "        v.append(i)\n",
    "\n",
    "for i in range(len(pt_k)):\n",
    "    if count > 60:\n",
    "        break\n",
    "    elif pt_k[i] == v[count]:\n",
    "        lindex.append(q)\n",
    "        count = count + 1\n",
    "    q = q + 1\n"
   ]
  },
  {
   "cell_type": "code",
   "execution_count": 19,
   "id": "72d68c7a",
   "metadata": {
    "extensions": {
     "jupyter_dashboards": {
      "version": 1,
      "views": {
       "grid_default": {},
       "report_default": {}
      }
     }
    }
   },
   "outputs": [],
   "source": [
    "vegan = pd.DataFrame()\n",
    "\n",
    "for i in lindex:\n",
    "    vproduct = df.iloc[i]\n",
    "    vegan = vegan.append(vproduct,ignore_index = True)\n"
   ]
  },
  {
   "cell_type": "markdown",
   "id": "9e576dca",
   "metadata": {},
   "source": [
    "Here, I am attempting to create the bar graph that has all the brand products starting with e.l.f. and ending with pacifica. The reason why the graph is left skewed is because I organized the data to have the prices in increasing order. However, this is not very informative which is why I simplified by using the average prices of the brand on the x-axis in the next graph."
   ]
  },
  {
   "cell_type": "code",
   "execution_count": 20,
   "id": "3f411e53",
   "metadata": {},
   "outputs": [
    {
     "data": {
      "text/plain": [
       "<AxesSubplot:xlabel='Brand'>"
      ]
     },
     "execution_count": 20,
     "metadata": {},
     "output_type": "execute_result"
    },
    {
     "data": {
      "image/png": "[encoded data removed]",
      "text/plain": [
       "<Figure size 720x432 with 1 Axes>"
      ]
     },
     "metadata": {
      "image/png": {
       "height": 432,
       "width": 592
      },
      "needs_background": "light"
     },
     "output_type": "display_data"
    }
   ],
   "source": [
    "plt.rcParams[\"figure.figsize\"] = [10, 6]\n",
    "# Set up with a higher resolution screen (useful on Mac)\n",
    "%config InlineBackend.figure_format = 'retina'\n",
    "vegan.plot.bar(x='Brand', y='Price')"
   ]
  },
  {
   "cell_type": "code",
   "execution_count": null,
   "id": "cb9acb9a",
   "metadata": {},
   "outputs": [],
   "source": [
    "Here gives us better insight on the most affordable vegan products within the brands included in the dataset. The most affordable brand is e.l.f. "
   ]
  },
  {
   "cell_type": "code",
   "execution_count": 69,
   "id": "0925ba6d",
   "metadata": {},
   "outputs": [
    {
     "data": {
      "image/png": "[encoded data removed]",
      "text/plain": [
       "<Figure size 720x432 with 1 Axes>"
      ]
     },
     "metadata": {
      "image/png": {
       "height": 532,
       "width": 767
      },
      "needs_background": "light"
     },
     "output_type": "display_data"
    }
   ],
   "source": [
    "elf = vegan.loc[vegan['Brand'] == 'e.l.f.']\n",
    "cpop = vegan.loc[vegan['Brand'] == 'colourpop']\n",
    "deciem = vegan.loc[vegan['Brand'] == 'deciem']\n",
    "panada = vegan.loc[vegan['Brand'] == 'pure anada']\n",
    "misa = vegan.loc[vegan['Brand'] == 'misa']\n",
    "alva = vegan.loc[vegan['Brand'] == 'alva']\n",
    "milani = vegan.loc[vegan['Brand'] == 'milani']\n",
    "mineralfusion = vegan.loc[vegan['Brand'] == 'mineral fusion']\n",
    "pacifica = vegan.loc[vegan['Brand'] == 'pacifica']\n",
    "moov = vegan.loc[vegan['Brand'] == 'moov']\n",
    "suncoat = vegan.loc[vegan['Brand'] == 'suncoat']\n",
    "sante = vegan.loc[vegan['Brand'] == 'sante']\n",
    "butterlondon = vegan.loc[vegan['Brand'] == 'butter london']\n",
    "zorah = vegan.loc[vegan['Brand'] == 'zorah']\n",
    "drhauschka = vegan.loc[vegan['Brand'] == 'dr. hauschka']\n",
    "\n",
    "columnbrands = ['e.l.f', 'colourpop', 'deciem', 'pure anada', 'misa','alva','milani','mineral fusion', 'pacifica', 'moov', 'suncoat', 'sante', 'butter london', 'zorah', 'dr. hauschka']\n",
    "datasets = [elf,cpop,deciem,panada,misa,alva,milani,mineralfusion,pacifica, moov,suncoat,sante,butterlondon,zorah,drhauschka]\n",
    "yt = []\n",
    "\n",
    "def avgprice(dataset):\n",
    "    average = sum(list(dataset['Price'])) / len(list(dataset['Price']))\n",
    "    return average\n",
    "\n",
    "for i in range(len(datasets)):\n",
    "    y_coor = avgprice(datasets[i])\n",
    "    yt.append(y_coor)\n",
    "\n",
    "colors = ['m','.3','.3','.5','.4','.4','.4','.8','.8','.4','.5','.6','.7','.8','.9','.9']\n",
    "fig = plt.figure()\n",
    "ax = fig.add_axes([0,0,1,1])\n",
    "ax.bar(columnbrands,yt, color=colors)\n",
    "plt.xlabel('Brands',fontweight='bold')\n",
    "plt.ylabel('Avg. Price',fontweight='bold')\n",
    "plt.setp(ax.get_xticklabels(), rotation=30, horizontalalignment='right')\n",
    "plt.title('What Makeup Brand Has the Most Affordable Vegan Products?', fontweight = 'bold', fontsize = 20)\n",
    "plt.show()"
   ]
  },
  {
   "cell_type": "code",
   "execution_count": 59,
   "id": "d8e30485",
   "metadata": {},
   "outputs": [
    {
     "name": "stdout",
     "output_type": "stream",
     "text": [
      "The average price for vegan e.l.f. products is 6.7995238095238095\n"
     ]
    }
   ],
   "source": [
    "print(\"The average price for vegan e.l.f. products is\", avgprice(elf))"
   ]
  },
  {
   "cell_type": "code",
   "execution_count": null,
   "id": "b46f36f7",
   "metadata": {},
   "outputs": [],
   "source": []
  }
 ],
 "metadata": {
  "extensions": {
   "jupyter_dashboards": {
    "activeView": "grid_default",
    "version": 1,
    "views": {
     "grid_default": {
      "cellMargin": 10,
      "defaultCellHeight": 20,
      "maxColumns": 12,
      "name": "grid",
      "type": "grid"
     },
     "report_default": {
      "name": "report",
      "type": "report"
     }
    }
   }
  },
  "kernelspec": {
   "display_name": "Python 3 (ipykernel)",
   "language": "python",
   "name": "python3"
  },
  "language_info": {
   "codemirror_mode": {
    "name": "ipython",
    "version": 3
   },
   "file_extension": ".py",
   "mimetype": "text/x-python",
   "name": "python",
   "nbconvert_exporter": "python",
   "pygments_lexer": "ipython3",
   "version": "3.9.7"
  }
 },
 "nbformat": 4,
 "nbformat_minor": 5
}
